{
 "cells": [
  {
   "metadata": {
    "ExecuteTime": {
     "end_time": "2024-10-22T21:31:22.040436Z",
     "start_time": "2024-10-22T21:31:21.982034Z"
    }
   },
   "cell_type": "code",
   "source": [
    "import warnings\n",
    "import boto3\n",
    "from dotenv import load_dotenv\n",
    "import os\n",
    "from botocore.config import Config\n",
    "\n",
    "warnings.filterwarnings('ignore')\n",
    "load_dotenv()\n",
    "\n",
    "my_config = Config(\n",
    "    region_name = 'us-west-2',\n",
    "    signature_version = 'v4',\n",
    "    retries = {\n",
    "        'max_attempts': 10,\n",
    "        'mode': 'standard'\n",
    "    }\n",
    ")"
   ],
   "id": "a6282e31b964b236",
   "outputs": [],
   "execution_count": 8
  },
  {
   "metadata": {
    "ExecuteTime": {
     "end_time": "2024-10-22T21:31:22.388912Z",
     "start_time": "2024-10-22T21:31:22.387582Z"
    }
   },
   "cell_type": "code",
   "source": "",
   "id": "92a5cc44b316a9a0",
   "outputs": [],
   "execution_count": null
  },
  {
   "metadata": {
    "ExecuteTime": {
     "end_time": "2024-10-22T21:31:24.038183Z",
     "start_time": "2024-10-22T21:31:23.938058Z"
    }
   },
   "cell_type": "code",
   "source": [
    "aws_access_key_id = os.getenv(\"AWS_ACCESS_KEY\")\n",
    "aws_secret_access_key = os.getenv(\"AWS_ACCESS_SECRET\")\n",
    "\n",
    "boto3_bedrock = boto3.client('bedrock-runtime',\n",
    "                      aws_access_key_id=aws_access_key_id,\n",
    "                      aws_secret_access_key=aws_secret_access_key,\n",
    "                    config=my_config\n",
    "                      )"
   ],
   "id": "260e14f1f5ac31c4",
   "outputs": [],
   "execution_count": 9
  },
  {
   "metadata": {
    "ExecuteTime": {
     "end_time": "2024-10-22T21:31:24.717011Z",
     "start_time": "2024-10-22T21:31:24.683032Z"
    }
   },
   "cell_type": "code",
   "source": [
    "from langchain_aws import ChatBedrock\n",
    "from langchain_core.messages import HumanMessage, SystemMessage\n",
    "\n",
    "llm = ChatBedrock(client=boto3_bedrock, \n",
    "                  model_id=\"anthropic.claude-3-haiku-20240307-v1:0\",\n",
    "                  model_kwargs=dict(temperature=0))"
   ],
   "id": "bc29b5745d95a07e",
   "outputs": [],
   "execution_count": 10
  },
  {
   "metadata": {
    "ExecuteTime": {
     "end_time": "2024-10-22T21:31:28.701636Z",
     "start_time": "2024-10-22T21:31:25.068364Z"
    }
   },
   "cell_type": "code",
   "source": [
    "messages = [\n",
    "    HumanMessage(\n",
    "        content=\"what is the weather like in Seattle WA\"\n",
    "    )\n",
    "]\n",
    "ai_msg = llm.invoke(messages)\n",
    "ai_msg"
   ],
   "id": "c09e231aa3edf50f",
   "outputs": [
    {
     "data": {
      "text/plain": [
       "AIMessage(content='Here are the current weather details for Seattle, Washington:\\n\\n- Temperature: Around 50°F (10°C)\\n- Conditions: Mostly cloudy\\n- Precipitation: Light rain showers\\n- Wind: Light winds around 5-10 mph (8-16 km/h)\\n\\nSeattle is known for its cool, wet weather year-round. The city experiences a marine west coast climate, with mild temperatures and frequent rainfall. Winters are cool and damp, with average highs around 50°F (10°C) and lows around 40°F (4°C). Summers are mild, with average highs around 75°F (24°C).\\n\\nThe weather in Seattle can be variable, with periods of rain interspersed with breaks of partly sunny skies. The city is known for its gray, overcast days, but also experiences beautiful sunny stretches, especially in the summer months. Overall, the weather is relatively temperate compared to many other parts of the country.', additional_kwargs={'usage': {'prompt_tokens': 16, 'completion_tokens': 220, 'total_tokens': 236}, 'stop_reason': 'end_turn', 'model_id': 'anthropic.claude-3-haiku-20240307-v1:0'}, response_metadata={'usage': {'prompt_tokens': 16, 'completion_tokens': 220, 'total_tokens': 236}, 'stop_reason': 'end_turn', 'model_id': 'anthropic.claude-3-haiku-20240307-v1:0'}, id='run-e5f0463f-c6c3-4e7a-9091-8406691d33d3-0', usage_metadata={'input_tokens': 16, 'output_tokens': 220, 'total_tokens': 236})"
      ]
     },
     "execution_count": 11,
     "metadata": {},
     "output_type": "execute_result"
    }
   ],
   "execution_count": 11
  },
  {
   "metadata": {},
   "cell_type": "markdown",
   "source": [
    "## Naive inferencing: The root challenge in creating Chatbots and Virtual Assistants and the Agentic solution:\n",
    "\n",
    "As seen in previous tutorials, LLM conversational interfaces such as chatbots or virtual assistants can be used to enhance the user experience of customers. These can be improved even more by giving them context from related sources such as chat history, documents, websites, social media platforms, and / or messaging apps, this is called RAG (Retrieval Augmented Generation) and is a fundamental backbone of designing robust AI solutions. \n",
    "\n",
    "One persistent bottleneck however is the inability of LLMs to assess whether data extracted and or its response, based on said data, is accurate and fully encapsulates a user requests (hallucinating). A way to mitigate this risk brought up by naive, inferencing with RAG is through the use of Agents. Agents are defined as a workflow that uses data, tools, and its own inferences to check that the response provided is accurate and meets users goals.\n",
    "\n",
    "![Amazon Bedrock - Agents Interface](./images/agents.jpg)"
   ],
   "id": "7d730629ec3d2528"
  },
  {
   "metadata": {},
   "cell_type": "markdown",
   "source": [
    "### Key Elements of Agents\n",
    " \n",
    "- Agents are designed for tasks that require multistep reasoning; Think questions that intuitively require multiple steps, for example how old was Henry Ford when he founded his company.\n",
    "- They are designed to plan ahead, remember past actions and check its own responses.\n",
    "- Agents can be made to deconstruct complex requests into manageable smaller sub-tasks such as data retrieval, comparison and tool usage.\n",
    "- Agents might be designed as standalone solutions or paired with other agents to enhance the agentic workflow.\n",
    "\n",
    "\n",
    " Let's build an agentic workflow from scratch to see how it works, for this use case we will use Calude 3 Sonnet to power our agentic workflow."
   ],
   "id": "66929125b85703cc"
  },
  {
   "metadata": {},
   "cell_type": "markdown",
   "source": [
    "### Architecture [Retriever with LangGraph]\n",
    "\n",
    "The core benefit of agentic workflows lies in its flexibility to adjust to your needs. You have full control on the design the flow by properly defining what the agents do and what tools and information is available to them. One popular framework for the use of Agents is called Langgraph, a low-level framework that offers the ability of adding cycles (using previous inferences as context to either fix or build on it), controllability of the flow and state of your application, and persistence, giving the agents the ability to involve humans in the loop and the memory to recall past agentic flows.\n",
    "\n",
    "#### For this scenario we'll define 3 agents:\n",
    "\n",
    "1. We defined a supervisor agent responsible for deciding the steps needed to fulfill the users request, this can take the shape of using tools or data retrieval. \n",
    "2. Then a task-driven agent to retrieve documents which can be invoked only when the orchestrator agent deems it necessary to fulfill the users request. \n",
    "3. Finally, a data retriever agent will query an embedding database containing Medical history if its deemed necessary to use this information to answer the users question.\n"
   ],
   "id": "ebed423080bc7eb4"
  },
  {
   "metadata": {},
   "cell_type": "markdown",
   "source": "### Dependencies and helper functions:",
   "id": "4cd1dc31c9f5e39b"
  },
  {
   "metadata": {
    "ExecuteTime": {
     "end_time": "2024-10-22T21:41:27.790082Z",
     "start_time": "2024-10-22T21:41:27.785846Z"
    }
   },
   "cell_type": "code",
   "source": [
    "from langchain.chains import create_history_aware_retriever, create_retrieval_chain\n",
    "from langchain.chains.combine_documents import create_stuff_documents_chain\n",
    "from langchain_core.chat_history import InMemoryChatMessageHistory\n",
    "from langchain_core.runnables.history import RunnableWithMessageHistory\n",
    "from langchain_core.chat_history import BaseChatMessageHistory\n",
    "from langchain.document_loaders import CSVLoader\n",
    "from langchain.text_splitter import CharacterTextSplitter\n",
    "from langchain.vectorstores import FAISS\n",
    "from langchain.embeddings import BedrockEmbeddings\n",
    "import warnings\n",
    "from io import StringIO\n",
    "import sys\n",
    "import textwrap\n",
    "from langchain_core.prompts import ChatPromptTemplate, MessagesPlaceholder\n",
    "\n",
    "warnings.filterwarnings('ignore')\n",
    "\n",
    "## Define a print helper function\n",
    "def print_ww(*args, width: int = 100, **kwargs):\n",
    "    \"\"\"Like print(), but wraps output to `width` characters (default 100)\"\"\"\n",
    "    _stdout = None\n",
    "    buffer = StringIO()\n",
    "    try:\n",
    "        _stdout = sys.stdout\n",
    "        sys.stdout = buffer\n",
    "        print(*args, **kwargs)\n",
    "        output = buffer.getvalue()\n",
    "    finally:\n",
    "        sys.stdout = _stdout\n",
    "    for line in output.splitlines():\n",
    "        print(\"\\n\".join(textwrap.wrap(line, width=width)))\n",
    "        "
   ],
   "id": "920dccd49d2398f4",
   "outputs": [],
   "execution_count": 28
  },
  {
   "metadata": {},
   "cell_type": "markdown",
   "source": [
    "### Build the retriever chain to be used with LangGraph\n",
    "1. Create `create_retriever_pain` which is used when the solution requires data retrieval from our documents\n",
    "2. Define the system prompt to enforce the correct use of context retrieved, it also ensures that the agent does not hallucinate\n",
    "3. Define the vectorstore using FAISS, a light weight in-memory vector DB and our documents stored in _'medi_history.csv'_\n",
    "4. Define the sessions persistent memory store for the agents use"
   ],
   "id": "f588cc7b8894f329"
  },
  {
   "metadata": {
    "ExecuteTime": {
     "end_time": "2024-10-22T21:41:28.564873Z",
     "start_time": "2024-10-22T21:41:28.562052Z"
    }
   },
   "cell_type": "code",
   "source": [
    "store = {}\n",
    "def get_session_history(session_id: str) -> BaseChatMessageHistory:\n",
    "    if session_id not in store:\n",
    "        store[session_id] = InMemoryChatMessageHistory()\n",
    "    return store[session_id]\n",
    "\n",
    "\n",
    "def create_retriever_pain():\n",
    "\n",
    "    br_embeddings = BedrockEmbeddings(model_id=\"amazon.titan-embed-text-v1\", client=boto3_bedrock)\n",
    "    \n",
    "    loader = CSVLoader(\"./rag_data/medi_history.csv\")\n",
    "    documents_aws = loader.load() \n",
    "    print(f\"Number of documents={len(documents_aws)}\")\n",
    "\n",
    "    docs = CharacterTextSplitter(chunk_size=2000, chunk_overlap=400, separator=\",\").split_documents(documents_aws)\n",
    "\n",
    "    print(f\"Number of documents after split and chunking={len(docs)}\")\n",
    "        \n",
    "    vectorstore_faiss_aws = FAISS.from_documents(\n",
    "        documents=docs,\n",
    "        embedding = br_embeddings\n",
    "    )\n",
    "\n",
    "    print(f\"vectorstore_faiss_aws: number of elements in the index={vectorstore_faiss_aws.index.ntotal}::\")\n",
    "\n",
    "    model_parameter = {\"temperature\": 0.0, \"top_p\": .5, \"max_tokens_to_sample\": 2000}\n",
    "    modelId = \"meta.llama3-8b-instruct-v1:0\" \n",
    "    chatbedrock_llm = ChatBedrock(\n",
    "        model_id=modelId,\n",
    "        client=boto3_bedrock,\n",
    "        model_kwargs=model_parameter, \n",
    "        beta_use_converse_api=True\n",
    "    )\n",
    "\n",
    "    qa_system_prompt = \"\"\"You are an assistant for question-answering tasks. \\\n",
    "    Use the following pieces of retrieved context to answer the question. \\\n",
    "    If the answer is not present in the context, just say you do not have enough context to answer. \\\n",
    "    If the input is not present in the context, just say you do not have enough context to answer. \\\n",
    "    If the question is not present in the context, just say you do not have enough context to answer. \\\n",
    "    If you don't know the answer, just say that you don't know. \\\n",
    "    Use three sentences maximum and keep the answer concise.\\\n",
    "\n",
    "    {context}\"\"\"\n",
    "\n",
    "    qa_prompt = ChatPromptTemplate.from_messages([\n",
    "        (\"system\", qa_system_prompt),\n",
    "        MessagesPlaceholder(\"chat_history\"),\n",
    "        (\"human\", \"{input}\")\n",
    "    ])\n",
    "    question_answer_chain = create_stuff_documents_chain(chatbedrock_llm, qa_prompt)\n",
    "\n",
    "    pain_rag_chain = create_retrieval_chain(vectorstore_faiss_aws.as_retriever(), \n",
    "                                            question_answer_chain)\n",
    "\n",
    "    pain_retriever_chain = RunnableWithMessageHistory(\n",
    "        pain_rag_chain,\n",
    "        get_session_history=get_session_history,\n",
    "        input_messages_key=\"input\",\n",
    "        history_messages_key=\"chat_history\",\n",
    "        output_messages_key=\"answer\",\n",
    "    )\n",
    "    return pain_retriever_chain\n"
   ],
   "id": "6595db06c23fa9ee",
   "outputs": [],
   "execution_count": 29
  },
  {
   "metadata": {},
   "cell_type": "markdown",
   "source": "#### Testing the rag chain:",
   "id": "c964d2f6a7c5f74c"
  },
  {
   "metadata": {
    "ExecuteTime": {
     "end_time": "2024-10-22T21:41:37.429789Z",
     "start_time": "2024-10-22T21:41:29.561875Z"
    }
   },
   "cell_type": "code",
   "source": [
    "pain_rag_chain = create_retriever_pain()    \n",
    "result = pain_rag_chain.invoke(\n",
    "    {\"input\": \"What all pain medications can be used for headache?\", \n",
    "     \"chat_history\": []},\n",
    "     config={'configurable': {'session_id': 'TEST-123'}},\n",
    ")\n",
    "result['answer']"
   ],
   "id": "64a6aeb779b1dad8",
   "outputs": [
    {
     "name": "stdout",
     "output_type": "stream",
     "text": [
      "Number of documents=41\n",
      "Number of documents after split and chunking=41\n",
      "vectorstore_faiss_aws: number of elements in the index=41::\n"
     ]
    },
    {
     "data": {
      "text/plain": [
       "'\\n\\nAccording to the context, Aspirin can be used for headache, and other over-the-counter pain relievers like ibuprofen (Advil, Motrin) and naproxen (Aleve) can also be used.'"
      ]
     },
     "execution_count": 30,
     "metadata": {},
     "output_type": "execute_result"
    }
   ],
   "execution_count": 30
  },
  {
   "metadata": {},
   "cell_type": "markdown",
   "source": [
    "### Book / Cancel Appointments: An agent with tools:\n",
    "\n",
    "In this module we will create an agent responsible for booking and canceling doctor appointments. This agent will take a booking request to create or cancel an appointment and its action will be guided by the 4 tools available to it.\n",
    "1. _book_appointment_: Used by the agent to book an appointment give the users request as long as it meets the criteria, valid date and time within office hours.\n",
    "2. _cancel_appointment_: If an exiting appointment is found, it will remove its respective 'booking id' from the list of appointments.\n",
    "3. _reject_appointment_: If an appointment cannot be booked due to inability or invalid date or time the agent will use this tool to reject the users request.\n",
    "4. _need_more_info_: Returns the earliest date and time needed for the booking an appointment back to the agent as well as informing the agent that it should request further details from the user.\n"
   ],
   "id": "dd5958bbfaf0d282"
  },
  {
   "metadata": {
    "ExecuteTime": {
     "end_time": "2024-10-22T21:41:39.663522Z",
     "start_time": "2024-10-22T21:41:39.658624Z"
    }
   },
   "cell_type": "code",
   "source": [
    "from langchain.tools import tool\n",
    "from langchain.agents import AgentExecutor, create_tool_calling_agent\n",
    "from datetime import datetime, timedelta \n",
    "import dateparser\n",
    "\n",
    "\n",
    "appointments = ['ID_100'] # Default appointment\n",
    "def create_book_cancel_agent():\n",
    "    today = datetime.today()\n",
    "    tomorrow = today + timedelta(days=1)\n",
    "    formatted_tomorrow = tomorrow.strftime(\"%B %d, %Y\")\n",
    "    start_time = datetime.strptime(\"9:00 am\", \"%I:%M %p\").time()\n",
    "    end_time = datetime.strptime(\"5:00 pm\", \"%I:%M %p\").time()\n",
    "            \n",
    "    def check_date_time(date: str, time: str) -> str:\n",
    "        \"\"\"Helper function is used by book appointment tool to check that the date and time passed by the user are within the date time params\"\"\"\n",
    "        _date = dateparser.parse(date)\n",
    "        _time = dateparser.parse(time)\n",
    "        if not _date or not _time:\n",
    "            return 'ERROR: Date and time parameters are not valid'\n",
    "        \n",
    "        input_date = _date.date()\n",
    "        input_time = _time.time()\n",
    "        if input_date < tomorrow.date():\n",
    "            return f'ERROR: Appointment date must be at least one day from today: {today.strftime(\"%B %d, %Y\")}'\n",
    "        elif input_date.weekday() > 4:\n",
    "            return f'ERROR: Appointments are only available on weekdays, date {input_date.strftime(\"%B %d, %Y\")} falls on a weekend.'\n",
    "        elif start_time > input_time >= end_time:\n",
    "            return f'ERROR: Appointments bust be between the hours of 9:00 am to 5:00 pm'\n",
    "        return 'True'\n",
    "        \n",
    "        \n",
    "    @tool(\"book_appointment\")\n",
    "    def book_appointment(date: str, time: str) -> dict:\n",
    "        \"\"\"Use this function to book an appointment. This function returns the booking ID\"\"\"\n",
    "\n",
    "        print(date, time)\n",
    "        is_valid = check_date_time(date, time)\n",
    "        if 'ERROR' in is_valid :\n",
    "            return {\"status\" : False, \"date\": date, \"time\": time, \"booking_id\": is_valid}\n",
    "\n",
    "        if appointments:\n",
    "            last_appointment = appointments[-1]\n",
    "            new_appointment = f\"ID_{int(last_appointment[3:]) + 1}\"\n",
    "            appointments.append(new_appointment)\n",
    "        else:\n",
    "            new_appointment = \"ID_100\"\n",
    "            appointments.append(new_appointment)\n",
    "            \n",
    "        return {\"status\" : True, \"date\": date, \"time\": time, \"booking_id\": new_appointment}\n",
    "    \n",
    "    @tool(\"reject_appointment\")\n",
    "    def reject_appointment() -> dict:\n",
    "        \"\"\"Use this function to reject an appointment if the status of book_appointment is False\"\"\"\n",
    "        return {\"status\" : False, \"date\": \"\", \"time\": \"\", \"booking_id\": \"\"}\n",
    "        \n",
    "    @tool(\"cancel_appointment\")\n",
    "    def cancel_appointment(booking_id: str) -> dict:\n",
    "        \"\"\"Use this function to cancel an existing appointment and remove it from the schedule. This function needs a booking id to cancel the appointment.\"\"\"\n",
    "\n",
    "        print(booking_id)\n",
    "        status = any(app == booking_id for app in appointments)\n",
    "        if not status:\n",
    "            booking_id = \"ERROR: No ID for given booking found. Please provide valid id\"\n",
    "        appointments.remove(booking_id)\n",
    "        return {\"status\" : status, \"booking_id\": booking_id}\n",
    "\n",
    "    @tool(\"need_more_info\")\n",
    "    def need_more_info() -> dict:\n",
    "        \"\"\"Use this function to get more information from the user. This function returns the earliest date and time needed for the booking an appointment \"\"\"\n",
    "        return {\"date after\": formatted_tomorrow, \"time between\": \"09:00 AM to 05:00 PM\", \"week day within\": \"Monday through Friday\"}\n",
    "\n",
    "\n",
    "    prompt_template_sys = \"\"\"\n",
    "    You are a booking assistant.\n",
    "    Make sure you use one the the following tools [\"book_appointment\", \"cancel_appointment\", \"need_more_info\", \"reject_appointment\"]\n",
    "    \"\"\"\n",
    "\n",
    "    chat_prompt_template = ChatPromptTemplate.from_messages(\n",
    "            messages = [\n",
    "                (\"system\", prompt_template_sys),\n",
    "                (\"placeholder\", \"{chat_history}\"),\n",
    "                (\"human\", \"{input}\"),\n",
    "                (\"placeholder\", \"{agent_scratchpad}\"),\n",
    "            ]\n",
    "    )\n",
    "\n",
    "    model_id = \"anthropic.claude-3-sonnet-20240229-v1:0\" #\"us.anthropic.claude-3-5-sonnet-20240620-v1:0\" \n",
    "    model_parameter = {\"temperature\": 0.0, \"top_p\": .1, \"max_tokens_to_sample\": 400}\n",
    "    chat_bedrock_appointment = ChatBedrock(\n",
    "        model_id=model_id,\n",
    "        client=boto3_bedrock,\n",
    "        model_kwargs=model_parameter, \n",
    "        beta_use_converse_api=True\n",
    "    )\n",
    "\n",
    "    tools_list_book = [book_appointment, cancel_appointment, need_more_info, reject_appointment]\n",
    "\n",
    "    # Construct the Tools agent\n",
    "    book_cancel_agent_t = create_tool_calling_agent(chat_bedrock_appointment, \n",
    "                                                    tools_list_book, \n",
    "                                                    chat_prompt_template)\n",
    "    \n",
    "    agent_executor_t = AgentExecutor(agent=book_cancel_agent_t, \n",
    "                                     tools=tools_list_book, \n",
    "                                     verbose=True, \n",
    "                                     max_iterations=5, \n",
    "                                     return_intermediate_steps=True)\n",
    "    return agent_executor_t\n"
   ],
   "id": "561a6f83c40d33fb",
   "outputs": [],
   "execution_count": 31
  },
  {
   "metadata": {
    "ExecuteTime": {
     "end_time": "2024-10-22T21:41:40.049463Z",
     "start_time": "2024-10-22T21:41:40.047574Z"
    }
   },
   "cell_type": "code",
   "source": "appointments",
   "id": "5085f454df936ab6",
   "outputs": [
    {
     "data": {
      "text/plain": [
       "['ID_100']"
      ]
     },
     "execution_count": 32,
     "metadata": {},
     "output_type": "execute_result"
    }
   ],
   "execution_count": 32
  },
  {
   "metadata": {},
   "cell_type": "markdown",
   "source": "### Test the Booking Agent with history:",
   "id": "8ef9b197994867c"
  },
  {
   "metadata": {
    "ExecuteTime": {
     "end_time": "2024-10-22T21:41:57.189142Z",
     "start_time": "2024-10-22T21:41:40.850250Z"
    }
   },
   "cell_type": "code",
   "source": [
    "# Add context for the agent to use\n",
    "book_cancel_history = InMemoryChatMessageHistory()\n",
    "book_cancel_history.add_user_message(\"can you book an appointment?\")\n",
    "book_cancel_history.add_ai_message(\"What is the date and time you wish for the appointment\")\n",
    "book_cancel_history.add_user_message(\"I need for Oct 10, 2023 at 10:00 am?\")\n",
    "\n",
    "user_query = \"can you book an appointment for me for September 14, 2024, at 10:00 am?\"\n",
    "agent_executor_book_cancel = create_book_cancel_agent()\n",
    "    \n",
    "result = agent_executor_book_cancel.invoke(\n",
    "    {\"input\": user_query, \n",
    "     \"chat_history\": book_cancel_history.messages}, \n",
    "    config={\"configurable\": {\"session_id\": \"session_1\"}}\n",
    ")"
   ],
   "id": "47ab5607e63637af",
   "outputs": [
    {
     "name": "stdout",
     "output_type": "stream",
     "text": [
      "\n",
      "\n",
      "\u001B[1m> Entering new AgentExecutor chain...\u001B[0m\n",
      "\u001B[32;1m\u001B[1;3m\n",
      "Invoking: `book_appointment` with `{'date': '2023-10-10', 'time': '10:00'}`\n",
      "responded: [{'type': 'text', 'text': 'Okay, let me try to book those appointments for you:', 'index': 0}, {'type': 'tool_use', 'name': 'book_appointment', 'id': 'tooluse_PAE5MRR9TZqwPamZpr4d8A', 'index': 1, 'input': '{\"date\": \"2023-10-10\", \"time\": \"10:00\"}'}]\n",
      "\n",
      "\u001B[0m2023-10-10 10:00\n",
      "\u001B[36;1m\u001B[1;3m{'status': False, 'date': '2023-10-10', 'time': '10:00', 'booking_id': 'ERROR: Appointment date must be at least one day from today: October 22, 2024'}\u001B[0m\u001B[32;1m\u001B[1;3m\n",
      "Invoking: `book_appointment` with `{'date': '2024-09-14', 'time': '10:00'}`\n",
      "responded: [{'type': 'text', 'text': '\\n\\nThe first appointment on October 10, 2023 could not be booked since that date is in the past. \\n\\nLet me try the second appointment:', 'index': 0}, {'type': 'tool_use', 'name': 'book_appointment', 'id': 'tooluse_HWLMDkfiRkmjVHFqaWUHPQ', 'index': 1, 'input': '{\"date\": \"2024-09-14\", \"time\": \"10:00\"}'}]\n",
      "\n",
      "\u001B[0m2024-09-14 10:00\n",
      "\u001B[36;1m\u001B[1;3m{'status': False, 'date': '2024-09-14', 'time': '10:00', 'booking_id': 'ERROR: Appointment date must be at least one day from today: October 22, 2024'}\u001B[0m\u001B[32;1m\u001B[1;3m\n",
      "Invoking: `need_more_info` with `{}`\n",
      "responded: [{'type': 'text', 'text': \"\\n\\nUnfortunately, I'm unable to book appointments that far in advance based on the system constraints. Let me get some more information on when you need the appointment.\", 'index': 0}, {'type': 'tool_use', 'name': 'need_more_info', 'id': 'tooluse_-_9uFxq_Tt-dmhWoPMSz4A', 'index': 1, 'input': ''}]\n",
      "\n",
      "\u001B[0m\u001B[38;5;200m\u001B[1;3m{'date after': 'October 23, 2024', 'time between': '09:00 AM to 05:00 PM', 'week day within': 'Monday through Friday'}\u001B[0m\u001B[32;1m\u001B[1;3m[{'type': 'text', 'text': '\\n\\nBased on the additional info provided, the earliest possible date I can book an appointment for you is October 23, 2024 between 9am - 5pm on a weekday (Monday-Friday). Could you please provide a new preferred date and time within those constraints?', 'index': 0}]\u001B[0m\n",
      "\n",
      "\u001B[1m> Finished chain.\u001B[0m\n"
     ]
    }
   ],
   "execution_count": 33
  },
  {
   "metadata": {
    "ExecuteTime": {
     "end_time": "2024-10-22T21:41:57.249133Z",
     "start_time": "2024-10-22T21:41:57.247130Z"
    }
   },
   "cell_type": "code",
   "source": "result['output'][0]['text']",
   "id": "9ff688418e6dd8f0",
   "outputs": [
    {
     "data": {
      "text/plain": [
       "'\\n\\nBased on the additional info provided, the earliest possible date I can book an appointment for you is October 23, 2024 between 9am - 5pm on a weekday (Monday-Friday). Could you please provide a new preferred date and time within those constraints?'"
      ]
     },
     "execution_count": 34,
     "metadata": {},
     "output_type": "execute_result"
    }
   ],
   "execution_count": 34
  },
  {
   "metadata": {
    "ExecuteTime": {
     "end_time": "2024-10-22T21:41:57.329913Z",
     "start_time": "2024-10-22T21:41:57.327935Z"
    }
   },
   "cell_type": "code",
   "source": "book_cancel_history.messages",
   "id": "d987b6d082233350",
   "outputs": [
    {
     "data": {
      "text/plain": [
       "[HumanMessage(content='can you book an appointment?'),\n",
       " AIMessage(content='What is the date and time you wish for the appointment'),\n",
       " HumanMessage(content='I need for Oct 10, 2023 at 10:00 am?')]"
      ]
     },
     "execution_count": 35,
     "metadata": {},
     "output_type": "execute_result"
    }
   ],
   "execution_count": 35
  },
  {
   "metadata": {
    "ExecuteTime": {
     "end_time": "2024-10-22T21:42:03.602810Z",
     "start_time": "2024-10-22T21:41:57.406756Z"
    }
   },
   "cell_type": "code",
   "source": [
    "agent_executor_book_cancel.invoke(\n",
    "    {\"input\": \"can you book an appointment for me?\", \"chat_history\": []}, \n",
    "    config={\"configurable\": {\"session_id\": \"session_1\"}}\n",
    ")"
   ],
   "id": "2bbe0f4b09bc4bfd",
   "outputs": [
    {
     "name": "stdout",
     "output_type": "stream",
     "text": [
      "\n",
      "\n",
      "\u001B[1m> Entering new AgentExecutor chain...\u001B[0m\n",
      "\u001B[32;1m\u001B[1;3m\n",
      "Invoking: `need_more_info` with `{}`\n",
      "responded: [{'type': 'text', 'text': 'Sure, I can help you book an appointment. To do that, I\\'ll need some additional information from you using the \"need_more_info\" tool:', 'index': 0}, {'type': 'tool_use', 'name': 'need_more_info', 'id': 'tooluse_waT2XwGhThqynhhDMk37JA', 'index': 1, 'input': ''}]\n",
      "\n",
      "\u001B[0m\u001B[38;5;200m\u001B[1;3m{'date after': 'October 23, 2024', 'time between': '09:00 AM to 05:00 PM', 'week day within': 'Monday through Friday'}\u001B[0m\u001B[32;1m\u001B[1;3m[{'type': 'text', 'text': '\\n\\nBased on the information provided, please let me know the date and time you would like to book the appointment for. It should be on or after October 23, 2024, between 9am to 5pm, and on a weekday (Monday through Friday).', 'index': 0}]\u001B[0m\n",
      "\n",
      "\u001B[1m> Finished chain.\u001B[0m\n"
     ]
    },
    {
     "data": {
      "text/plain": [
       "{'input': 'can you book an appointment for me?',\n",
       " 'chat_history': [],\n",
       " 'output': [{'type': 'text',\n",
       "   'text': '\\n\\nBased on the information provided, please let me know the date and time you would like to book the appointment for. It should be on or after October 23, 2024, between 9am to 5pm, and on a weekday (Monday through Friday).',\n",
       "   'index': 0}],\n",
       " 'intermediate_steps': [(ToolAgentAction(tool='need_more_info', tool_input={}, log='\\nInvoking: `need_more_info` with `{}`\\nresponded: [{\\'type\\': \\'text\\', \\'text\\': \\'Sure, I can help you book an appointment. To do that, I\\\\\\'ll need some additional information from you using the \"need_more_info\" tool:\\', \\'index\\': 0}, {\\'type\\': \\'tool_use\\', \\'name\\': \\'need_more_info\\', \\'id\\': \\'tooluse_waT2XwGhThqynhhDMk37JA\\', \\'index\\': 1, \\'input\\': \\'\\'}]\\n\\n', message_log=[AIMessageChunk(content=[{'type': 'text', 'text': 'Sure, I can help you book an appointment. To do that, I\\'ll need some additional information from you using the \"need_more_info\" tool:', 'index': 0}, {'type': 'tool_use', 'name': 'need_more_info', 'id': 'tooluse_waT2XwGhThqynhhDMk37JA', 'index': 1, 'input': ''}], response_metadata={'stopReason': 'tool_use', 'metrics': {'latencyMs': 3177}}, id='run-187957d4-3dcb-45e8-9957-ab27a711b113', tool_calls=[{'name': 'need_more_info', 'args': {}, 'id': 'tooluse_waT2XwGhThqynhhDMk37JA', 'type': 'tool_call'}], usage_metadata={'input_tokens': 477, 'output_tokens': 72, 'total_tokens': 549}, tool_call_chunks=[{'name': 'need_more_info', 'args': '', 'id': 'tooluse_waT2XwGhThqynhhDMk37JA', 'index': 1, 'type': 'tool_call_chunk'}])], tool_call_id='tooluse_waT2XwGhThqynhhDMk37JA'),\n",
       "   {'date after': 'October 23, 2024',\n",
       "    'time between': '09:00 AM to 05:00 PM',\n",
       "    'week day within': 'Monday through Friday'})]}"
      ]
     },
     "execution_count": 36,
     "metadata": {},
     "output_type": "execute_result"
    }
   ],
   "execution_count": 36
  },
  {
   "metadata": {
    "ExecuteTime": {
     "end_time": "2024-10-22T21:42:19.451579Z",
     "start_time": "2024-10-22T21:42:16.228791Z"
    }
   },
   "cell_type": "code",
   "source": "agent_executor_book_cancel.invoke({\"input\": \"can you cancel my appointment with booking id of ID_100\"})",
   "id": "b43930e2a951f58d",
   "outputs": [
    {
     "name": "stdout",
     "output_type": "stream",
     "text": [
      "\n",
      "\n",
      "\u001B[1m> Entering new AgentExecutor chain...\u001B[0m\n",
      "\u001B[32;1m\u001B[1;3m\n",
      "Invoking: `cancel_appointment` with `{'booking_id': 'ID_100'}`\n",
      "responded: [{'type': 'text', 'text': 'Certainly, let me cancel that appointment for you.', 'index': 0}, {'type': 'tool_use', 'name': 'cancel_appointment', 'id': 'tooluse_zjDDpWVSS1uWu5hkU-SY8g', 'index': 1, 'input': '{\"booking_id\": \"ID_100\"}'}]\n",
      "\n",
      "\u001B[0mID_100\n",
      "\u001B[33;1m\u001B[1;3m{'status': True, 'booking_id': 'ID_100'}\u001B[0m\u001B[32;1m\u001B[1;3m[{'type': 'text', 'text': '\\n\\nThe appointment with booking ID ID_100 has been successfully canceled.', 'index': 0}]\u001B[0m\n",
      "\n",
      "\u001B[1m> Finished chain.\u001B[0m\n"
     ]
    },
    {
     "data": {
      "text/plain": [
       "{'input': 'can you cancel my appointment with booking id of ID_100',\n",
       " 'output': [{'type': 'text',\n",
       "   'text': '\\n\\nThe appointment with booking ID ID_100 has been successfully canceled.',\n",
       "   'index': 0}],\n",
       " 'intermediate_steps': [(ToolAgentAction(tool='cancel_appointment', tool_input={'booking_id': 'ID_100'}, log='\\nInvoking: `cancel_appointment` with `{\\'booking_id\\': \\'ID_100\\'}`\\nresponded: [{\\'type\\': \\'text\\', \\'text\\': \\'Certainly, let me cancel that appointment for you.\\', \\'index\\': 0}, {\\'type\\': \\'tool_use\\', \\'name\\': \\'cancel_appointment\\', \\'id\\': \\'tooluse_zjDDpWVSS1uWu5hkU-SY8g\\', \\'index\\': 1, \\'input\\': \\'{\"booking_id\": \"ID_100\"}\\'}]\\n\\n', message_log=[AIMessageChunk(content=[{'type': 'text', 'text': 'Certainly, let me cancel that appointment for you.', 'index': 0}, {'type': 'tool_use', 'name': 'cancel_appointment', 'id': 'tooluse_zjDDpWVSS1uWu5hkU-SY8g', 'index': 1, 'input': '{\"booking_id\": \"ID_100\"}'}], response_metadata={'stopReason': 'tool_use', 'metrics': {'latencyMs': 2204}}, id='run-8c0ce628-61b3-4656-932f-b0b5bf20f76c', tool_calls=[{'name': 'cancel_appointment', 'args': {'booking_id': 'ID_100'}, 'id': 'tooluse_zjDDpWVSS1uWu5hkU-SY8g', 'type': 'tool_call'}], usage_metadata={'input_tokens': 481, 'output_tokens': 54, 'total_tokens': 535}, tool_call_chunks=[{'name': 'cancel_appointment', 'args': '{\"booking_id\": \"ID_100\"}', 'id': 'tooluse_zjDDpWVSS1uWu5hkU-SY8g', 'index': 1, 'type': 'tool_call_chunk'}])], tool_call_id='tooluse_zjDDpWVSS1uWu5hkU-SY8g'),\n",
       "   {'status': True, 'booking_id': 'ID_100'})]}"
      ]
     },
     "execution_count": 37,
     "metadata": {},
     "output_type": "execute_result"
    }
   ],
   "execution_count": 37
  },
  {
   "metadata": {},
   "cell_type": "markdown",
   "source": [
    "### An AI doctor: Medical advice agent based on conversations with the patient\n",
    "This function will be the backbone of the language agent responsible for giving medical advice given the historical interactions the user had with the Chatbot. This model will use its knowledge of the medical field along with the conversations with the patient to give well founded advice."
   ],
   "id": "bf3da629cf9efe25"
  },
  {
   "metadata": {
    "ExecuteTime": {
     "end_time": "2024-10-22T21:42:28.217525Z",
     "start_time": "2024-10-22T21:42:28.214653Z"
    }
   },
   "cell_type": "code",
   "source": [
    "from langchain_aws.chat_models.bedrock import ChatBedrock\n",
    "\n",
    "\n",
    "def extract_chat_history(chat_history):\n",
    "    user_map = {'human':'user', 'ai':'assistant'}\n",
    "    if not chat_history:\n",
    "        chat_history = []\n",
    "    messages_list=[{'role':user_map.get(msg.type), 'content':[{'text':msg.content}]} for msg in chat_history]\n",
    "    return messages_list\n",
    "\n",
    "\n",
    "def ask_doctor_advice(boto3_bedrock, chat_history):\n",
    "    modelId = \"anthropic.claude-3-sonnet-20240229-v1:0\" \n",
    "    response = boto3_bedrock.converse(\n",
    "        messages=chat_history,\n",
    "        modelId=modelId,\n",
    "        inferenceConfig={\n",
    "            \"temperature\": 0.5,\n",
    "            \"maxTokens\": 100,\n",
    "            \"topP\": 0.9\n",
    "        }\n",
    "    )\n",
    "    response_body = response['output']['message']['content'][0]['text']\n",
    "    return response_body\n"
   ],
   "id": "78ae10938d36cfde",
   "outputs": [],
   "execution_count": 38
  },
  {
   "metadata": {},
   "cell_type": "markdown",
   "source": "### Testing the AI Doc agent",
   "id": "dcac44e7a7736d97"
  },
  {
   "metadata": {
    "ExecuteTime": {
     "end_time": "2024-10-22T21:42:32.979507Z",
     "start_time": "2024-10-22T21:42:30.718749Z"
    }
   },
   "cell_type": "code",
   "source": [
    "chat_history=InMemoryChatMessageHistory()\n",
    "chat_history.add_user_message(\"what are the effects of Asprin\")\n",
    "ask_doctor_advice(boto3_bedrock, extract_chat_history(chat_history.messages))"
   ],
   "id": "45d9fd27140a6d12",
   "outputs": [
    {
     "data": {
      "text/plain": [
       "'Aspirin (acetylsalicylic acid) is a widely used medication that has several effects on the body. Here are some of the main effects of aspirin:\\n\\n1. Pain relief (analgesic effect): Aspirin is effective in relieving mild to moderate pain, such as headaches, muscle aches, menstrual cramps, and toothaches.\\n\\n2. Fever reduction (antipyretic effect): Aspirin can help reduce fever'"
      ]
     },
     "execution_count": 39,
     "metadata": {},
     "output_type": "execute_result"
    }
   ],
   "execution_count": 39
  },
  {
   "metadata": {},
   "cell_type": "markdown",
   "source": [
    "### The supervisor agent, the orchestrator of the LangGraph workflow\n",
    "1. This agent has the list of tools / nodes it can invoke based on the nodes\n",
    "2. Based on that the supervisor will route and invoke the correct LangGraph chain and node\n",
    "3. Output will be a predefine chain of thought leveraging the available tools and agents to complete and validate the task\n",
    "4. `ToolsAgentOutputParser` is used to parse the output of the tools"
   ],
   "id": "b3db4c014b3e75d3"
  },
  {
   "metadata": {
    "ExecuteTime": {
     "end_time": "2024-10-22T21:42:35.041504Z",
     "start_time": "2024-10-22T21:42:35.038985Z"
    }
   },
   "cell_type": "code",
   "source": [
    "from langchain_core.runnables import RunnablePassthrough\n",
    "from langchain.agents.output_parsers.tools import ToolsAgentOutputParser\n",
    "\n",
    "\n",
    "members = [\"book_cancel_agent\",\"pain_retriever_chain\",\"ask_doctor_advice\" ]\n",
    "options = [\"FINISH\"] + members\n",
    "\n",
    "def create_supervisor_agent():\n",
    "\n",
    "    prompt_finish_template_simple = \"\"\"\n",
    "    Given the conversation below who should act next?\n",
    "    1. To book or cancel an appointment return 'book_cancel_agent'\n",
    "    2. To answer question about pain medications return 'pain_retriever_chain'\n",
    "    3. To answer question about any medical issue return 'ask_doctor_advice'\n",
    "    4. If you have the answer return 'FINISH'\n",
    "    Or should we FINISH? ONLY return one of these {options}. Do not explain the process.Select one of: {options}\n",
    "    \n",
    "    {history_chat}\n",
    "    \n",
    "    Question: {input}\n",
    "\n",
    "    \"\"\"\n",
    "    modelId = \"anthropic.claude-3-sonnet-20240229-v1:0\"\n",
    "    supervisor_llm = ChatBedrock(\n",
    "        model_id=modelId,\n",
    "        client=boto3_bedrock,\n",
    "        beta_use_converse_api=True\n",
    "    )\n",
    "\n",
    "    supervisor_chain_t = (\n",
    "        RunnablePassthrough()\n",
    "        | ChatPromptTemplate.from_template(prompt_finish_template_simple)\n",
    "        | supervisor_llm\n",
    "        | ToolsAgentOutputParser()\n",
    "    )\n",
    "    return supervisor_chain_t\n",
    "\n",
    "supervisor_wrapped_chain = create_supervisor_agent()\n"
   ],
   "id": "26a8f54c32cabf28",
   "outputs": [],
   "execution_count": 40
  },
  {
   "metadata": {},
   "cell_type": "markdown",
   "source": [
    "### Test the supervisor agent\n",
    "Our supervisor will litigate the user query to the respective agent or end the chain."
   ],
   "id": "49944e6286a15534"
  },
  {
   "metadata": {},
   "cell_type": "code",
   "source": [
    "temp_messages = InMemoryChatMessageHistory()\n",
    "temp_messages.add_user_message(\"What does medical doctor do?\")\n",
    "\n",
    "supervisor_wrapped_chain.invoke({\n",
    "    \"input\": \"What does medical doctor do?\", \n",
    "    \"options\": options, \n",
    "    \"history_chat\": extract_chat_history(temp_messages.messages)\n",
    "})\n",
    "\n",
    "#  Adding Memory\n",
    "temp_message_2 = InMemoryChatMessageHistory()\n",
    "temp_message_2.add_user_message(\"Can you book an appointment for me?\")\n",
    "temp_message_2.add_ai_message(\"Sure I have booked the appointment booked for Sept 24, 2024 at 10 am\")\n",
    "\n",
    "response = supervisor_wrapped_chain.invoke({\n",
    "    \"input\": \"can you book an appointment for me?\", \n",
    "    \"options\": options, \n",
    "    \"history_chat\": extract_chat_history(temp_message_2.messages)})\n",
    "\n",
    "response"
   ],
   "id": "43bf9e73e8ef813f",
   "outputs": [],
   "execution_count": null
  },
  {
   "metadata": {},
   "cell_type": "markdown",
   "source": [
    "### Putting it all together: Defining the Graph architecture\n",
    "1. The `GraphState` class defines how we want our nodes to behave  \n",
    "2. Wrap our agents into nodes that will take a graph state as input\n",
    "3. Short term or 'buffer' memory for the graph will be provided by the `ConversationBufferMemory` object\n",
    "4. Finally `add_user_message` and `add_ai_message` apis are used to add the messages to the buffer memory"
   ],
   "id": "1ee3d86185b0af5f"
  },
  {
   "metadata": {
    "ExecuteTime": {
     "end_time": "2024-10-22T21:42:43.823690Z",
     "start_time": "2024-10-22T21:42:43.776931Z"
    }
   },
   "cell_type": "code",
   "source": [
    "import operator\n",
    "from typing import Annotated, Dict, Sequence, TypedDict\n",
    "from langchain_core.prompts import ChatPromptTemplate, MessagesPlaceholder\n",
    "from langgraph.graph import StateGraph, END\n",
    "from langchain_core.messages import BaseMessage\n",
    "from langchain_core.chat_history import InMemoryChatMessageHistory\n",
    "\n",
    "\n",
    "# The agent state is the input to each node in the graph\n",
    "class GraphState(TypedDict):\n",
    "    # The annotation tells the graph that new messages will always\n",
    "    # be added to the current states\n",
    "    messages: Annotated[Sequence[BaseMessage], operator.add]\n",
    "    # The 'next_node' field indicates where to route to next\n",
    "    next_node: str\n",
    "    # initial user query\n",
    "    user_query: str\n",
    "    # instantiate memory\n",
    "    convo_memory: InMemoryChatMessageHistory\n",
    "    # options for the supervisor agent to decide which node to follow\n",
    "    options: list\n",
    "    # session id for the supervisor since that is another option for managing memory\n",
    "    curr_session_id: str \n",
    "\n",
    "\n",
    "def input_first(state: GraphState) -> Dict[str, str]:\n",
    "    print_ww(f\"\"\"start input_first()....::state={state}::\"\"\")\n",
    "    init_input = state.get(\"user_query\", \"\").strip()\n",
    "    # store the input\n",
    "    convo_memory =  InMemoryChatMessageHistory()\n",
    "    convo_memory.add_user_message(init_input)\n",
    "    options = ['FINISH', 'book_cancel_agent', 'pain_retriever_chain', 'ask_doctor_advice'] \n",
    "    return {\"user_query\":init_input, \"options\": options, \"convo_memory\": convo_memory}\n",
    "\n",
    "\n",
    "def agent_node(state, final_result, name):\n",
    "    state.get(\"convo_memory\").add_ai_message(final_result)\n",
    "    print(f\"\\nAgent:name={name}::AgentNode:state={state}::return:result={final_result}:::returning END now\\n\")\n",
    "    return {\"next_node\": END, \"answer\": final_result}\n",
    "\n",
    "\n",
    "def retriever_node(state: GraphState) -> Dict[str, str]:\n",
    "    global pain_rag_chain\n",
    "    print_ww(f\"use this to go the retriever way to answer the question():: state::{state}\")    \n",
    "    init_input = state.get(\"user_query\", \"\").strip()\n",
    "    chat_history = extract_chat_history(state.get(\"convo_memory\").messages)\n",
    "    if pain_rag_chain == None:\n",
    "        pain_rag_chain = create_retriever_pain()    \n",
    "    \n",
    "    # This agent is used to get the context for any questions related to medical issues such as aches, headache or body pain\n",
    "    result = pain_rag_chain.invoke(\n",
    "        {\"input\": init_input, \"chat_history\": chat_history},\n",
    "        config={'configurable': {'session_id': state[\"curr_session_id\"]}}\n",
    "    )\n",
    "    return agent_node(state, result['answer'], 'pain_retriever_chain')\n",
    "\n",
    "\n",
    "def doctor_advice_node(state: GraphState) -> Dict[str, str]:\n",
    "    print_ww(f\"use this to answer about the Doctors advice from FINE TUNED Model::{state}::\")\n",
    "    chat_history = extract_chat_history(state.get(\"convo_memory\").messages)\n",
    "    # init_input = state.get(\"user_query\", \"\").strip()\n",
    "    result = ask_doctor_advice(boto3_bedrock, chat_history) \n",
    "    return agent_node(state, result, name=\"ask_doctor_advice\")\n",
    "\n",
    "\n",
    "def book_cancel_node(state: GraphState) -> Dict[str, str]:\n",
    "    global book_cancel_agent, agent_executor_book_cancel\n",
    "    print_ww(f\"use this to book or cancel an appointment::{state}::\")\n",
    "    init_input = state.get(\"user_query\", \"\").strip()\n",
    "    agent_executor_book_cancel = create_book_cancel_agent()\n",
    "    \n",
    "    result = agent_executor_book_cancel.invoke(\n",
    "        {\"input\": init_input, \"chat_history\": state.get(\"convo_memory\").messages}, \n",
    "        config={\"configurable\": {\"session_id\": state[\"curr_session_id\"]}}\n",
    "    ) \n",
    "    ret_val = result['output'][0]['text']\n",
    "    return agent_node(state, ret_val, name=\"book_cancel_agent\")\n",
    "\n",
    "\n",
    "def error(state: GraphState) -> Dict[str, str]:\n",
    "    print_ww(f\"\"\"start error()::state={state}::\"\"\")\n",
    "    return {\"final_result\": \"error\", \"first_word\": \"error\", \"second_word\": \"error\"}\n",
    "\n",
    "\n",
    "def supervisor_node(state: GraphState) -> Dict[str, str]:\n",
    "    global supervisor_wrapped_chain\n",
    "    print_ww(f\"\"\"supervisor_node()::state={state}::\"\"\") \n",
    "    init_input = state.get(\"user_query\", \"\").strip()\n",
    "    options = state.get(\"options\", ['FINISH', 'book_cancel_agent', 'pain_retriever_chain', 'ask_doctor_advice']  )\n",
    "\n",
    "    convo_memory = state.get(\"convo_memory\")\n",
    "    print(f\"\\nsupervisor_node():History of messages so far :::{convo_memory.messages}\\n\")\n",
    "    \n",
    "    supervisor_wrapped_chain = create_supervisor_agent()    \n",
    "    result = supervisor_wrapped_chain.invoke({\n",
    "        \"input\": init_input, \n",
    "        \"options\": options, \n",
    "        \"history_chat\": extract_chat_history(convo_memory.messages)\n",
    "    })\n",
    "\n",
    "    print_ww(f\"\\n\\nsupervisor_node():result={result}......\\n\\n\")\n",
    "    return {\"next_node\": result.return_values[\"output\"]}\n"
   ],
   "id": "2e3b24e4572078bc",
   "outputs": [],
   "execution_count": 42
  },
  {
   "metadata": {},
   "cell_type": "markdown",
   "source": [
    "## Set up the workflow:\n",
    "LangGraph works by seamlessly knitting together our agents into a coherent workflow allowing us to set up the flow that is essential for agentic architectures. "
   ],
   "id": "def3293b1a9cfb5f"
  },
  {
   "metadata": {
    "ExecuteTime": {
     "end_time": "2024-10-22T21:42:47.950634Z",
     "start_time": "2024-10-22T21:42:47.945593Z"
    }
   },
   "cell_type": "code",
   "source": [
    "workflow = StateGraph(GraphState)\n",
    "workflow.add_node(\"pain_retriever_chain\", retriever_node)\n",
    "workflow.add_node(\"ask_doctor_advice\", doctor_advice_node)\n",
    "workflow.add_node(\"book_cancel_agent\", book_cancel_node)\n",
    "workflow.add_node(\"supervisor\", supervisor_node)\n",
    "workflow.add_node(\"init_input\", input_first)\n",
    "print(workflow)\n",
    "\n",
    "members = ['pain_retriever_chain', 'ask_doctor_advice', 'book_cancel_agent', 'init_input'] \n",
    "print_ww(f\"members of the nodes={members}\")\n",
    "\n",
    "# The supervisor populates the \"next\" field in the graph state which routes to a node or finishes\n",
    "conditional_map = {k: k for k in members}\n",
    "conditional_map[\"FINISH\"] = END\n",
    "workflow.add_conditional_edges(\"supervisor\", lambda x: x[\"next_node\"], conditional_map)\n",
    "\n",
    "# add end just for all the nodes  \n",
    "for member in members[:-1]:\n",
    "    workflow.add_edge(member, END)\n",
    "\n",
    "# entry node to supervisor\n",
    "workflow.add_edge(\"init_input\", \"supervisor\")\n",
    "\n",
    "# Finally, add entrypoint\n",
    "workflow.set_entry_point(\"init_input\") \n",
    "\n",
    "graph = workflow.compile()"
   ],
   "id": "9b8a673858c236f9",
   "outputs": [
    {
     "name": "stdout",
     "output_type": "stream",
     "text": [
      "<langgraph.graph.state.StateGraph object at 0x1436cd730>\n",
      "members of the nodes=['pain_retriever_chain', 'ask_doctor_advice', 'book_cancel_agent',\n",
      "'init_input']\n"
     ]
    }
   ],
   "execution_count": 43
  },
  {
   "metadata": {},
   "cell_type": "markdown",
   "source": "##### Finally, we visualize the entire workflow to make sure it meets our expectations. In our usecase the supervisor can 'litigate' the work to other agents or end the workflow itself.",
   "id": "3b0dc85d35ecd52c"
  },
  {
   "metadata": {
    "ExecuteTime": {
     "end_time": "2024-10-22T21:42:51.805767Z",
     "start_time": "2024-10-22T21:42:51.790365Z"
    }
   },
   "cell_type": "code",
   "source": "graph.get_graph().print_ascii()",
   "id": "ea00c6396596d008",
   "outputs": [
    {
     "name": "stdout",
     "output_type": "stream",
     "text": [
      "                                                    +-----------+                                           \n",
      "                                                    | __start__ |                                           \n",
      "                                                    +-----------+                                           \n",
      "                                                          *                                                 \n",
      "                                                          *                                                 \n",
      "                                                          *                                                 \n",
      "                                                   +------------+                                           \n",
      "                                                   | init_input |                                           \n",
      "                                                   +------------+                                           \n",
      "                                                          .                                                 \n",
      "                                                          .                                                 \n",
      "                                                          .                                                 \n",
      "                                                   +------------+                                           \n",
      "                                               ....| supervisor |.....                                      \n",
      "                                       ........    +------------+.    ........                              \n",
      "                               ........           ..              ...         ........                      \n",
      "                       ........                ...                   ...              ........              \n",
      "                  .....                      ..                         ..                    ........      \n",
      "+-------------------+           +-------------------+           +----------------------+              ..... \n",
      "| ask_doctor_advice |**         | book_cancel_agent |           | pain_retriever_chain |      ........      \n",
      "+-------------------+  *********+-------------------+           +----------------------+......              \n",
      "                                ********          **              ***       .........                       \n",
      "                                        *********   ***        ***  ........                                \n",
      "                                                 ***** **    **.....                                        \n",
      "                                                     +---------+                                            \n",
      "                                                     | __end__ |                                            \n",
      "                                                     +---------+                                            \n"
     ]
    }
   ],
   "execution_count": 44
  },
  {
   "metadata": {
    "ExecuteTime": {
     "end_time": "2024-10-22T21:42:55.944149Z",
     "start_time": "2024-10-22T21:42:52.711488Z"
    }
   },
   "cell_type": "code",
   "source": [
    "graph.invoke(\n",
    "    {\"user_query\": \"what is the general function of a doctor, what do they do?\", \"recursion_limit\": 2, \"curr_session_id\": \"session_1\"},\n",
    ")"
   ],
   "id": "bdb0cd15aac33fd",
   "outputs": [
    {
     "name": "stdout",
     "output_type": "stream",
     "text": [
      "start input_first()....::state={'messages': [], 'user_query': 'what is the general function of a\n",
      "doctor, what do they do?', 'curr_session_id': 'session_1'}::\n",
      "supervisor_node()::state={'messages': [], 'user_query': 'what is the general function of a doctor,\n",
      "what do they do?', 'convo_memory': InMemoryChatMessageHistory(messages=[HumanMessage(content='what\n",
      "is the general function of a doctor, what do they do?')]), 'options': ['FINISH',\n",
      "'book_cancel_agent', 'pain_retriever_chain', 'ask_doctor_advice'], 'curr_session_id': 'session_1'}::\n",
      "\n",
      "supervisor_node():History of messages so far :::[HumanMessage(content='what is the general function of a doctor, what do they do?')]\n",
      "\n",
      "\n",
      "\n",
      "supervisor_node():result=return_values={'output': 'ask_doctor_advice'} log='ask_doctor_advice'......\n",
      "\n",
      "\n",
      "use this to answer about the Doctors advice from FINE TUNED Model::{'messages': [], 'next_node':\n",
      "'ask_doctor_advice', 'user_query': 'what is the general function of a doctor, what do they do?',\n",
      "'convo_memory': InMemoryChatMessageHistory(messages=[HumanMessage(content='what is the general\n",
      "function of a doctor, what do they do?')]), 'options': ['FINISH', 'book_cancel_agent',\n",
      "'pain_retriever_chain', 'ask_doctor_advice'], 'curr_session_id': 'session_1'}::\n",
      "\n",
      "Agent:name=ask_doctor_advice::AgentNode:state={'messages': [], 'next_node': 'ask_doctor_advice', 'user_query': 'what is the general function of a doctor, what do they do?', 'convo_memory': InMemoryChatMessageHistory(messages=[HumanMessage(content='what is the general function of a doctor, what do they do?'), AIMessage(content='The general function of a doctor is to promote health, prevent and treat illnesses, and alleviate pain and suffering in patients. Here are some of the main responsibilities and duties of doctors:\\n\\n1. Diagnosing illnesses and injuries: Doctors examine patients, order and interpret diagnostic tests (e.g., blood tests, X-rays, MRI scans), and use their medical knowledge and expertise to identify the underlying condition or disease.\\n\\n2. Treating patients:')]), 'options': ['FINISH', 'book_cancel_agent', 'pain_retriever_chain', 'ask_doctor_advice'], 'curr_session_id': 'session_1'}::return:result=The general function of a doctor is to promote health, prevent and treat illnesses, and alleviate pain and suffering in patients. Here are some of the main responsibilities and duties of doctors:\n",
      "\n",
      "1. Diagnosing illnesses and injuries: Doctors examine patients, order and interpret diagnostic tests (e.g., blood tests, X-rays, MRI scans), and use their medical knowledge and expertise to identify the underlying condition or disease.\n",
      "\n",
      "2. Treating patients::::returning END now\n",
      "\n"
     ]
    },
    {
     "data": {
      "text/plain": [
       "{'messages': [],\n",
       " 'next_node': '__end__',\n",
       " 'user_query': 'what is the general function of a doctor, what do they do?',\n",
       " 'convo_memory': InMemoryChatMessageHistory(messages=[HumanMessage(content='what is the general function of a doctor, what do they do?'), AIMessage(content='The general function of a doctor is to promote health, prevent and treat illnesses, and alleviate pain and suffering in patients. Here are some of the main responsibilities and duties of doctors:\\n\\n1. Diagnosing illnesses and injuries: Doctors examine patients, order and interpret diagnostic tests (e.g., blood tests, X-rays, MRI scans), and use their medical knowledge and expertise to identify the underlying condition or disease.\\n\\n2. Treating patients:')]),\n",
       " 'options': ['FINISH',\n",
       "  'book_cancel_agent',\n",
       "  'pain_retriever_chain',\n",
       "  'ask_doctor_advice'],\n",
       " 'curr_session_id': 'session_1'}"
      ]
     },
     "execution_count": 45,
     "metadata": {},
     "output_type": "execute_result"
    }
   ],
   "execution_count": 45
  },
  {
   "metadata": {
    "ExecuteTime": {
     "end_time": "2024-10-22T21:42:59.197140Z",
     "start_time": "2024-10-22T21:42:57.428489Z"
    }
   },
   "cell_type": "code",
   "source": [
    "graph.invoke(\n",
    "    {\"user_query\": \"what are the effects of Asprin?\", \"recursion_limit\": 2, \"curr_session_id\": \"session_1\"},\n",
    ")"
   ],
   "id": "14171b337171ccbc",
   "outputs": [
    {
     "name": "stdout",
     "output_type": "stream",
     "text": [
      "start input_first()....::state={'messages': [], 'user_query': 'what are the effects of Asprin?',\n",
      "'curr_session_id': 'session_1'}::\n",
      "supervisor_node()::state={'messages': [], 'user_query': 'what are the effects of Asprin?',\n",
      "'convo_memory': InMemoryChatMessageHistory(messages=[HumanMessage(content='what are the effects of\n",
      "Asprin?')]), 'options': ['FINISH', 'book_cancel_agent', 'pain_retriever_chain',\n",
      "'ask_doctor_advice'], 'curr_session_id': 'session_1'}::\n",
      "\n",
      "supervisor_node():History of messages so far :::[HumanMessage(content='what are the effects of Asprin?')]\n",
      "\n",
      "\n",
      "\n",
      "supervisor_node():result=return_values={'output': 'pain_retriever_chain'}\n",
      "log='pain_retriever_chain'......\n",
      "\n",
      "\n",
      "use this to go the retriever way to answer the question():: state::{'messages': [], 'next_node':\n",
      "'pain_retriever_chain', 'user_query': 'what are the effects of Asprin?', 'convo_memory':\n",
      "InMemoryChatMessageHistory(messages=[HumanMessage(content='what are the effects of Asprin?')]),\n",
      "'options': ['FINISH', 'book_cancel_agent', 'pain_retriever_chain', 'ask_doctor_advice'],\n",
      "'curr_session_id': 'session_1'}\n",
      "\n",
      "Agent:name=pain_retriever_chain::AgentNode:state={'messages': [], 'next_node': 'pain_retriever_chain', 'user_query': 'what are the effects of Asprin?', 'convo_memory': InMemoryChatMessageHistory(messages=[HumanMessage(content='what are the effects of Asprin?'), AIMessage(content='\\n\\nAccording to the context, Asprin is used for treating headache issues, pain, and also for thinning blood. Additionally, it is mentioned that with Asprin, you can generally take all medicines except for XYZ.')]), 'options': ['FINISH', 'book_cancel_agent', 'pain_retriever_chain', 'ask_doctor_advice'], 'curr_session_id': 'session_1'}::return:result=\n",
      "\n",
      "According to the context, Asprin is used for treating headache issues, pain, and also for thinning blood. Additionally, it is mentioned that with Asprin, you can generally take all medicines except for XYZ.:::returning END now\n",
      "\n"
     ]
    },
    {
     "data": {
      "text/plain": [
       "{'messages': [],\n",
       " 'next_node': '__end__',\n",
       " 'user_query': 'what are the effects of Asprin?',\n",
       " 'convo_memory': InMemoryChatMessageHistory(messages=[HumanMessage(content='what are the effects of Asprin?'), AIMessage(content='\\n\\nAccording to the context, Asprin is used for treating headache issues, pain, and also for thinning blood. Additionally, it is mentioned that with Asprin, you can generally take all medicines except for XYZ.')]),\n",
       " 'options': ['FINISH',\n",
       "  'book_cancel_agent',\n",
       "  'pain_retriever_chain',\n",
       "  'ask_doctor_advice'],\n",
       " 'curr_session_id': 'session_1'}"
      ]
     },
     "execution_count": 46,
     "metadata": {},
     "output_type": "execute_result"
    }
   ],
   "execution_count": 46
  },
  {
   "metadata": {},
   "cell_type": "code",
   "source": [
    "graph.invoke(\n",
    "    {\"user_query\": \"what is the general function of a doctor, what do they do?\", \"recursion_limit\": 2, \"curr_session_id\": \"session_1\"},\n",
    ")"
   ],
   "id": "d1e089034d26597d",
   "outputs": [],
   "execution_count": null
  },
  {
   "metadata": {},
   "cell_type": "code",
   "source": [
    "graph.invoke(\n",
    "    {\"user_query\": \"Can you book an appointment for me?\", \"recursion_limit\": 2, \"curr_session_id\": \"session_1\"},\n",
    ")"
   ],
   "id": "cb0617c2b2e02104",
   "outputs": [],
   "execution_count": null
  },
  {
   "metadata": {},
   "cell_type": "code",
   "source": [
    "graph.invoke(\n",
    "    {\"user_query\": \"Can you book an appointment for Sept 24, 2024 10 am?\", \"recursion_limit\": 2, \"curr_session_id\": \"session_1\"},\n",
    ")"
   ],
   "id": "51426ef2e21ce8cf",
   "outputs": [],
   "execution_count": null
  },
  {
   "metadata": {},
   "cell_type": "code",
   "source": "appointments",
   "id": "4c88cfba4e344cf2",
   "outputs": [],
   "execution_count": null
  },
  {
   "metadata": {},
   "cell_type": "code",
   "source": [
    "graph.invoke(\n",
    "    {\"user_query\": \"can you cancel my appointment with booking id of ID_100\", \"recursion_limit\": 2, \"curr_session_id\": \"session_1\"},\n",
    ")"
   ],
   "id": "399b9cb9993df34e",
   "outputs": [],
   "execution_count": null
  },
  {
   "metadata": {},
   "cell_type": "code",
   "source": "appointments",
   "id": "952f1bbbd94ffed",
   "outputs": [],
   "execution_count": null
  },
  {
   "metadata": {},
   "cell_type": "code",
   "source": "",
   "id": "ab3b62013c50da85",
   "outputs": [],
   "execution_count": null
  }
 ],
 "metadata": {
  "kernelspec": {
   "display_name": "Python 3",
   "language": "python",
   "name": "python3"
  },
  "language_info": {
   "codemirror_mode": {
    "name": "ipython",
    "version": 2
   },
   "file_extension": ".py",
   "mimetype": "text/x-python",
   "name": "python",
   "nbconvert_exporter": "python",
   "pygments_lexer": "ipython2",
   "version": "2.7.6"
  }
 },
 "nbformat": 4,
 "nbformat_minor": 5
}
